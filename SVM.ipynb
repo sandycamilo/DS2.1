{
 "cells": [
  {
   "cell_type": "markdown",
   "metadata": {},
   "source": [
    "# Support Vector Machine (SVM)\n",
    "SVM is a supervised machine learning model for classification tasks. It's really good at doing both classification and regression simultaneously.\n",
    "\n",
    "\n",
    "If you have a lot of data that needs to be classified, an SVM can help you achieve that\n",
    "\n",
    "\n",
    "For two dimensions (when we have two features), assume the target has two classes. The SVM will obtain the best line that seperates the data into two groups"
   ]
  },
  {
   "cell_type": "markdown",
   "metadata": {},
   "source": [
    "What are Support Vectors in SVM?\n",
    "\n",
    "Support vectors are the datapoints that lie closest to the decision boundary"
   ]
  },
  {
   "cell_type": "markdown",
   "metadata": {},
   "source": [
    "# Brain Health\n",
    "We have medical data on brain health through the following Brain Health Dataset\n",
    "\n",
    "Two features (X1 and X2 columns) are given that are related to brain chemistry:\n",
    "\n",
    "Serotonin\n",
    "\n",
    "Dopamine\n",
    "\n",
    "The target (y column) shows brain health by indicating having (-1) or not having (1) depression.\n",
    "\n",
    "1 means subject does not have depression\n",
    "\n",
    "-1 means subject does have depression"
   ]
  },
  {
   "cell_type": "code",
   "execution_count": 4,
   "metadata": {},
   "outputs": [],
   "source": [
    "import pandas as pd\n",
    "\n",
    "df=pd.read_csv('SVM_Dataset1.csv', index_col=0)"
   ]
  },
  {
   "cell_type": "code",
   "execution_count": 6,
   "metadata": {},
   "outputs": [
    {
     "name": "stdout",
     "output_type": "stream",
     "text": [
      "         X1        X2  y\n",
      "0  2.947814  6.626878  1\n",
      "1  2.530388  7.785050  1\n",
      "2  3.566991  5.651046  1\n",
      "3  3.156983  5.467077  1\n",
      "4  2.582346  4.457777 -1\n",
      "5  2.155826  6.222343 -1\n",
      "6  3.273418  3.520687 -1\n"
     ]
    }
   ],
   "source": [
    "print(df)"
   ]
  },
  {
   "cell_type": "markdown",
   "metadata": {},
   "source": [
    "# Lets build our X_train and Y_train arrays"
   ]
  },
  {
   "cell_type": "code",
   "execution_count": 10,
   "metadata": {
    "scrolled": true
   },
   "outputs": [
    {
     "name": "stdout",
     "output_type": "stream",
     "text": [
      "[[2.947814 6.626878]\n",
      " [2.530388 7.78505 ]\n",
      " [3.566991 5.651046]\n",
      " [3.156983 5.467077]\n",
      " [2.582346 4.457777]\n",
      " [2.155826 6.222343]\n",
      " [3.273418 3.520687]]\n"
     ]
    }
   ],
   "source": [
    "import numpy as np\n",
    "\n",
    "#serotonin and dopamine levels\n",
    "X1=df['X1']\n",
    "X2=df['X2']\n",
    "X_train=np.array(list(zip(X1,X2)))\n",
    "\n",
    "print(X_train)"
   ]
  },
  {
   "cell_type": "code",
   "execution_count": 9,
   "metadata": {},
   "outputs": [
    {
     "name": "stdout",
     "output_type": "stream",
     "text": [
      "[ 1  1  1  1 -1 -1 -1]\n"
     ]
    }
   ],
   "source": [
    "y_train=df['y'].values\n",
    "\n",
    "print(y_train)"
   ]
  },
  {
   "cell_type": "code",
   "execution_count": 27,
   "metadata": {},
   "outputs": [
    {
     "name": "stdout",
     "output_type": "stream",
     "text": [
      "['b', 'b', 'b', 'b', 'r', 'r', 'r']\n"
     ]
    }
   ],
   "source": [
    "#build two lists whose color/label values match with the values of the y_train array at the corresponding indices\n",
    "\n",
    "color_ls = []\n",
    "# if y == 1, then the value at the same index in color_ls will be 'b'\n",
    "# otherwise, it will be 'r'\n",
    "for k in y_train:\n",
    "    if k == 1:\n",
    "        color_ls.append('b')\n",
    "    else:\n",
    "        color_ls.append('r')\n",
    "\n",
    "print(color_ls)"
   ]
  },
  {
   "cell_type": "code",
   "execution_count": 28,
   "metadata": {},
   "outputs": [
    {
     "name": "stdout",
     "output_type": "stream",
     "text": [
      "['H', 'H', 'H', 'H', 'NH', 'NH', 'NH']\n"
     ]
    }
   ],
   "source": [
    "label = []\n",
    "# if y == 1, then the value at the same index in label will be 'H'\n",
    "# otherwise, it will be 'NH'\n",
    "for k in y_train:\n",
    "    if k == 1:\n",
    "        label.append('H')\n",
    "    else:\n",
    "        label.append('NH')\n",
    "\n",
    "print(label)"
   ]
  },
  {
   "cell_type": "code",
   "execution_count": 29,
   "metadata": {},
   "outputs": [
    {
     "data": {
      "image/png": "[encoded data removed]",
      "text/plain": [
       "<Figure size 432x288 with 1 Axes>"
      ]
     },
     "metadata": {
      "needs_background": "light"
     },
     "output_type": "display_data"
    }
   ],
   "source": [
    "import matplotlib.pyplot as plt\n",
    "\n",
    "# k is our index, (i,j) are our Serotonin and Dopamine pairings.\n",
    "# For example, here are the values on the first iteration of the loop:\n",
    "# k == 0, (i, j) == (2.947814, 6.626878)\n",
    "for k, (i,j) in enumerate(X_train):\n",
    "    # add the datapoint to a scatter plot,\n",
    "    # using the k'th color in colors_ls\n",
    "    plt.scatter(i, j, c = color_ls[k])\n",
    "    # 0.02 to the right and above the point,\n",
    "    # add the k'th text label in label\n",
    "    plt.text(i+0.02, j+0.02, label[k])"
   ]
  },
  {
   "cell_type": "code",
   "execution_count": 30,
   "metadata": {},
   "outputs": [
    {
     "data": {
      "text/plain": [
       "SVC(C=10, cache_size=200, class_weight=None, coef0=0.0,\n",
       "    decision_function_shape='ovr', degree=3, gamma='auto_deprecated',\n",
       "    kernel='linear', max_iter=-1, probability=False, random_state=None,\n",
       "    shrinking=True, tol=0.001, verbose=False)"
      ]
     },
     "execution_count": 30,
     "metadata": {},
     "output_type": "execute_result"
    }
   ],
   "source": [
    "from sklearn import svm\n",
    "\n",
    "# svm_classifier = svm.SVC(kernel='poly',C=1, degree=2)\n",
    "\n",
    "# We want to use a linear classification\n",
    "svm_classifier = svm.SVC(kernel='linear', C=10)\n",
    "# find the best fit line\n",
    "svm_classifier.fit(X_train, y_train)"
   ]
  },
  {
   "cell_type": "code",
   "execution_count": 31,
   "metadata": {},
   "outputs": [],
   "source": [
    "# Helper function to plot the best fit line,\n",
    "# as well as marking the closest data points to the line,\n",
    "# through dotted lines (margins)\n",
    "def plot_decision_boundary(clf, X, y):\n",
    "    x1_min, x1_max = X[:, 0].min() - 1, X[:, 0].max() + 1\n",
    "    x2_min, x2_max = X[:, 1].min() - 1, X[:, 1].max() + 1\n",
    "    xx1, xx2 = np.meshgrid(np.arange(x1_min, x1_max),np.arange(x2_min, x2_max))\n",
    "    Z = clf.decision_function(np.array([xx1.ravel(), xx2.ravel()]).T).reshape(xx1.shape)\n",
    "    plt.contour(xx1, xx2, Z, colors='b', levels=[-1, 0, 1], alpha=0.4, linestyles=['--', '-', '--'])\n",
    "    plt.xlim(xx1.min(), xx1.max())\n",
    "    plt.ylim(xx2.min(), xx2.max())"
   ]
  },
  {
   "cell_type": "code",
   "execution_count": 33,
   "metadata": {},
   "outputs": [
    {
     "data": {
      "image/png": "[encoded data removed]",
      "text/plain": [
       "<Figure size 432x288 with 1 Axes>"
      ]
     },
     "metadata": {
      "needs_background": "light"
     },
     "output_type": "display_data"
    }
   ],
   "source": [
    "# pass in the trained model and data points,\n",
    "# and plot the best fit line + margins\n",
    "plot_decision_boundary(svm_classifier, X_train, y_train)\n",
    "\n",
    "# plot data points + color/labels\n",
    "for k, (i,j) in enumerate(X_train):\n",
    "    plt.scatter(i, j, c = color_ls[k])\n",
    "    plt.text(i+0.02, j+0.02, label[k])"
   ]
  },
  {
   "cell_type": "code",
   "execution_count": 34,
   "metadata": {},
   "outputs": [
    {
     "data": {
      "text/plain": [
       "array([2, 1], dtype=int32)"
      ]
     },
     "execution_count": 34,
     "metadata": {},
     "output_type": "execute_result"
    }
   ],
   "source": [
    "svm_classifier.n_support_"
   ]
  },
  {
   "cell_type": "code",
   "execution_count": 35,
   "metadata": {},
   "outputs": [],
   "source": [
    "# What are those support vectors:"
   ]
  },
  {
   "cell_type": "code",
   "execution_count": 36,
   "metadata": {},
   "outputs": [
    {
     "data": {
      "text/plain": [
       "array([[2.155826, 6.222343],\n",
       "       [3.273418, 3.520687],\n",
       "       [3.156983, 5.467077]])"
      ]
     },
     "execution_count": 36,
     "metadata": {},
     "output_type": "execute_result"
    }
   ],
   "source": [
    "svm_classifier.support_vectors_"
   ]
  },
  {
   "cell_type": "code",
   "execution_count": 38,
   "metadata": {},
   "outputs": [
    {
     "data": {
      "text/plain": [
       "array([1])"
      ]
     },
     "execution_count": 38,
     "metadata": {},
     "output_type": "execute_result"
    }
   ],
   "source": [
    "# Am I healthy?\n",
    "# use the SVM classifier to see if I am deppressed?\n",
    "\n",
    "svm_classifier.predict([[3,6]])"
   ]
  },
  {
   "cell_type": "markdown",
   "metadata": {},
   "source": [
    "# SVM-Dataset2"
   ]
  },
  {
   "cell_type": "code",
   "execution_count": 75,
   "metadata": {},
   "outputs": [],
   "source": [
    "import pandas as pd\n",
    "import numpy as np\n",
    "\n",
    "df=pd.read_csv('SVM_Dataset2.csv')"
   ]
  },
  {
   "cell_type": "code",
   "execution_count": 76,
   "metadata": {},
   "outputs": [
    {
     "name": "stdout",
     "output_type": "stream",
     "text": [
      "      x1  x2  y\n",
      "0    7.0  20 -1\n",
      "1    8.0  12 -1\n",
      "2    9.0  19 -1\n",
      "3   10.0  17 -1\n",
      "4   11.0  15 -1\n",
      "5   13.0  14 -1\n",
      "6   14.0  12 -1\n",
      "7   15.0  14 -1\n",
      "8   15.0  17 -1\n",
      "9   16.0  16 -1\n",
      "10   4.0  15  1\n",
      "11   5.5  12  1\n",
      "12   7.0  10  1\n",
      "13   8.0  10  1\n",
      "14   9.0   9  1\n",
      "15  10.0   8  1\n",
      "16  11.0   5  1\n",
      "17  12.0   7  1\n",
      "18  12.0   9  1\n",
      "19  13.0  10  1\n"
     ]
    }
   ],
   "source": [
    "print(df)"
   ]
  },
  {
   "cell_type": "code",
   "execution_count": 96,
   "metadata": {},
   "outputs": [],
   "source": [
    "# import numpy as np\n",
    "# x1=df['X1']\n",
    "# x2=df['X2']\n",
    "# X_train=np.array(list(zip(X1,X2)))\n",
    "\n",
    "# print(X_train)"
   ]
  },
  {
   "cell_type": "code",
   "execution_count": null,
   "metadata": {},
   "outputs": [],
   "source": []
  },
  {
   "cell_type": "code",
   "execution_count": 88,
   "metadata": {},
   "outputs": [],
   "source": [
    "import numpy as np\n",
    "import matplotlib.pyplot as plt\n",
    "from sklearn import svm\n",
    "from sklearn.datasets import make_blobs\n",
    "\n",
    "# we create two clusters of random points\n",
    "n_samples_1 = 1000\n",
    "n_samples_2 = 100\n",
    "centers = [[0.0, 0.0], [2.0, 2.0]]\n",
    "clusters_std = [1.5, 0.5]\n",
    "X, y = make_blobs(n_samples=[n_samples_1, n_samples_2],\n",
    "                  centers=centers,\n",
    "                  cluster_std=clusters_std,\n",
    "                  random_state=0, shuffle=False)"
   ]
  },
  {
   "cell_type": "code",
   "execution_count": 89,
   "metadata": {},
   "outputs": [
    {
     "data": {
      "text/plain": [
       "array([0, 0, 0, ..., 1, 1, 1])"
      ]
     },
     "execution_count": 89,
     "metadata": {},
     "output_type": "execute_result"
    }
   ],
   "source": [
    "y"
   ]
  },
  {
   "cell_type": "code",
   "execution_count": 90,
   "metadata": {},
   "outputs": [
    {
     "data": {
      "text/plain": [
       "array([[ 2.64607852,  0.60023581],\n",
       "       [ 1.46810698,  3.3613398 ],\n",
       "       [ 2.80133699, -1.46591682],\n",
       "       ...,\n",
       "       [ 1.68550965,  2.53503626],\n",
       "       [ 1.68945865,  2.86728609],\n",
       "       [ 1.45085528,  2.28630668]])"
      ]
     },
     "execution_count": 90,
     "metadata": {},
     "output_type": "execute_result"
    }
   ],
   "source": [
    "X"
   ]
  },
  {
   "cell_type": "code",
   "execution_count": 93,
   "metadata": {},
   "outputs": [
    {
     "data": {
      "text/plain": [
       "1100"
      ]
     },
     "execution_count": 93,
     "metadata": {},
     "output_type": "execute_result"
    }
   ],
   "source": [
    "len(y)"
   ]
  },
  {
   "cell_type": "code",
   "execution_count": 92,
   "metadata": {},
   "outputs": [
    {
     "data": {
      "text/plain": [
       "1000"
      ]
     },
     "execution_count": 92,
     "metadata": {},
     "output_type": "execute_result"
    }
   ],
   "source": [
    "# How many 0 class and how many 1 class we have in y list?\n",
    "\n",
    "sum([1 for i in y if i == 0])"
   ]
  },
  {
   "cell_type": "code",
   "execution_count": 94,
   "metadata": {},
   "outputs": [
    {
     "data": {
      "text/plain": [
       "0"
      ]
     },
     "execution_count": 94,
     "metadata": {},
     "output_type": "execute_result"
    }
   ],
   "source": [
    "sum([0 for i in y if i == 0])"
   ]
  },
  {
   "cell_type": "markdown",
   "metadata": {},
   "source": [
    "Also, think about these five terminologies as we will use a lot in DS 2.1:\n",
    "\n",
    "1- What is X_train?\n",
    "\n",
    "2- What is y_train?\n",
    "\n",
    "3- What is X_test?\n",
    "\n",
    "4- What is y_test?\n",
    "\n",
    "5- What is y_pred (y_prediction)?"
   ]
  },
  {
   "cell_type": "code",
   "execution_count": null,
   "metadata": {},
   "outputs": [],
   "source": []
  }
 ],
 "metadata": {
  "kernelspec": {
   "display_name": "Python 3",
   "language": "python",
   "name": "python3"
  },
  "language_info": {
   "codemirror_mode": {
    "name": "ipython",
    "version": 3
   },
   "file_extension": ".py",
   "mimetype": "text/x-python",
   "name": "python",
   "nbconvert_exporter": "python",
   "pygments_lexer": "ipython3",
   "version": "3.7.7"
  }
 },
 "nbformat": 4,
 "nbformat_minor": 2
}
