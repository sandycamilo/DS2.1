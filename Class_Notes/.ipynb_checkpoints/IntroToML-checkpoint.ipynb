{
 "cells": [
  {
   "cell_type": "markdown",
   "metadata": {},
   "source": [
    "# Scaling, Normalization, One-hot encoding, Label encoding\n"
   ]
  },
  {
   "cell_type": "code",
   "execution_count": 39,
   "metadata": {},
   "outputs": [],
   "source": [
    "import numpy as np "
   ]
  },
  {
   "cell_type": "code",
   "execution_count": 40,
   "metadata": {},
   "outputs": [
    {
     "name": "stdout",
     "output_type": "stream",
     "text": [
      "[[1000    2]\n",
      " [1500    3]]\n",
      "(2, 2)\n",
      "[1000 1500]\n",
      "[2 3]\n"
     ]
    }
   ],
   "source": [
    "X = np.array([[1000, 2], [1500, 3]])\n",
    "\n",
    "print(X)\n",
    "print(X.shape)\n",
    "print(X[:, 0])\n",
    "print(X[:, 1])"
   ]
  },
  {
   "cell_type": "code",
   "execution_count": 41,
   "metadata": {},
   "outputs": [],
   "source": [
    "#function will take the X(as input argument of the function is a Numpy array) and returns the scaled version of X "
   ]
  },
  {
   "cell_type": "code",
   "execution_count": 33,
   "metadata": {},
   "outputs": [
    {
     "name": "stdout",
     "output_type": "stream",
     "text": [
      "[[0. 0.]\n",
      " [1. 1.]]\n"
     ]
    }
   ],
   "source": [
    "import numpy as np\n",
    "\n",
    "def max_min_s(X):\n",
    "    return (X - X.min(axis=0)) / (X.max(axis=0) - X.min(axis=0))\n",
    "\n",
    "X_train = np.array([[1000, 2], [1500, 3]])\n",
    "print(max_min_s(X_train))"
   ]
  },
  {
   "cell_type": "code",
   "execution_count": 34,
   "metadata": {},
   "outputs": [
    {
     "name": "stdout",
     "output_type": "stream",
     "text": [
      "[[0. 0.]\n",
      " [1. 1.]]\n"
     ]
    }
   ],
   "source": [
    "from sklearn import preprocessing \n",
    "\n",
    "min_max_scaler = preprocessing.MinMaxScaler()\n",
    "X_minmax = min_max_scaler.fit_transform(X_train)\n",
    "print(X_minmax)"
   ]
  },
  {
   "cell_type": "code",
   "execution_count": 35,
   "metadata": {},
   "outputs": [],
   "source": [
    "# A two dimensional array (matrix) X is given,  write a function that:\n",
    "#     subtract the mean element of each column from all the elements of that column \n",
    "#     divide the result to the standard deviation of value for each column "
   ]
  },
  {
   "cell_type": "code",
   "execution_count": 36,
   "metadata": {},
   "outputs": [
    {
     "name": "stdout",
     "output_type": "stream",
     "text": [
      "[[-1. -1.]\n",
      " [ 1.  1.]]\n"
     ]
    }
   ],
   "source": [
    "import numpy as np\n",
    "\n",
    "def standard_s(X):\n",
    "    return (X - X.mean(axis=0)) / X.std(axis=0)\n",
    "\n",
    "print(standard_s(X_train))"
   ]
  },
  {
   "cell_type": "code",
   "execution_count": 37,
   "metadata": {},
   "outputs": [
    {
     "name": "stdout",
     "output_type": "stream",
     "text": [
      "[[-1. -1.]\n",
      " [ 1.  1.]]\n"
     ]
    }
   ],
   "source": [
    "standard_scaler = preprocessing.StandardScaler()\n",
    "X_ss= standard_scaler.fit_transform(X_train)\n",
    "print(X_ss)"
   ]
  },
  {
   "cell_type": "code",
   "execution_count": 38,
   "metadata": {},
   "outputs": [
    {
     "data": {
      "text/plain": [
       "-0.2672612419124244"
      ]
     },
     "execution_count": 38,
     "metadata": {},
     "output_type": "execute_result"
    }
   ],
   "source": [
    "import numpy as np\n",
    "X_train = np.array([[ 1., -1.,  2.], [ 2.,  0.,  0.], [ 0.,  1., -1.]])\n",
    "(X_train[:,0]-X_train[:,0].mean())/X_train[:,0].std()\n",
    "(X_train[:,1]-X_train[:,1].mean())/X_train[:,1].std()\n",
    "(X_train[:,2]-X_train[:,2].mean())/X_train[:,2].std()\n",
    "(X_train-X_train.mean(axis=0))/X_train.std(axis=0)\n",
    "\n",
    "\n",
    "X_test = [[-1., 1., 0.]]\n",
    "(-1 - X_train[:,0].mean())/X_train[:,0].std()\n",
    "(1 - X_train[:,1].mean())/X_train[:,1].std()\n",
    "(0 - X_train[:,2].mean())/X_train[:,2].std()\n",
    "\n",
    "# How preprocessing.MinMaxScaler() works\n",
    "# (X_train - X_train.min(axis=0)) / (X_train.max(axis=0) - X_train.min(axis=0)"
   ]
  }
 ],
 "metadata": {
  "kernelspec": {
   "display_name": "Python 3",
   "language": "python",
   "name": "python3"
  },
  "language_info": {
   "codemirror_mode": {
    "name": "ipython",
    "version": 3
   },
   "file_extension": ".py",
   "mimetype": "text/x-python",
   "name": "python",
   "nbconvert_exporter": "python",
   "pygments_lexer": "ipython3",
   "version": "3.7.7"
  }
 },
 "nbformat": 4,
 "nbformat_minor": 2
}
