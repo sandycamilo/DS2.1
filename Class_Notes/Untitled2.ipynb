{
 "cells": [
  {
   "cell_type": "code",
   "execution_count": 6,
   "metadata": {},
   "outputs": [],
   "source": [
    "import numpy as np \n",
    "import pandas as pd \n",
    "\n",
    "df = pd.read_csv('../datasets/input_data.csv')"
   ]
  },
  {
   "cell_type": "code",
   "execution_count": 7,
   "metadata": {},
   "outputs": [
    {
     "data": {
      "text/html": [
       "<div>\n",
       "<style scoped>\n",
       "    .dataframe tbody tr th:only-of-type {\n",
       "        vertical-align: middle;\n",
       "    }\n",
       "\n",
       "    .dataframe tbody tr th {\n",
       "        vertical-align: top;\n",
       "    }\n",
       "\n",
       "    .dataframe thead th {\n",
       "        text-align: right;\n",
       "    }\n",
       "</style>\n",
       "<table border=\"1\" class=\"dataframe\">\n",
       "  <thead>\n",
       "    <tr style=\"text-align: right;\">\n",
       "      <th></th>\n",
       "      <th>RECORD_CREATION_DATE</th>\n",
       "      <th>LOAN_AMOUNT</th>\n",
       "      <th>CREDIT_RANGE</th>\n",
       "      <th>EXISTING_DEBT</th>\n",
       "      <th>AGENT_NOTES</th>\n",
       "      <th>OFFICE_LOCATION</th>\n",
       "      <th>DEFAULTED</th>\n",
       "    </tr>\n",
       "  </thead>\n",
       "  <tbody>\n",
       "    <tr>\n",
       "      <th>0</th>\n",
       "      <td>01May2014:09:24:27.000000</td>\n",
       "      <td>2500</td>\n",
       "      <td>760-779</td>\n",
       "      <td>$10,001-$20,000</td>\n",
       "      <td>NaN</td>\n",
       "      <td>NORTHERN CALIFORNIA</td>\n",
       "      <td>False</td>\n",
       "    </tr>\n",
       "    <tr>\n",
       "      <th>1</th>\n",
       "      <td>01May2014:09:48:36.000000</td>\n",
       "      <td>2500</td>\n",
       "      <td>700-719</td>\n",
       "      <td>$1-$10,000</td>\n",
       "      <td>Annual gross income: $25,400</td>\n",
       "      <td>SOUTHERN CALIFORNIA</td>\n",
       "      <td>False</td>\n",
       "    </tr>\n",
       "    <tr>\n",
       "      <th>2</th>\n",
       "      <td>01May2014:10:10:36.000000</td>\n",
       "      <td>6300</td>\n",
       "      <td>740-759</td>\n",
       "      <td>$100,000+</td>\n",
       "      <td>NaN</td>\n",
       "      <td>ARIZONA</td>\n",
       "      <td>True</td>\n",
       "    </tr>\n",
       "    <tr>\n",
       "      <th>3</th>\n",
       "      <td>01May2014:10:31:25.000000</td>\n",
       "      <td>4300</td>\n",
       "      <td>780-799</td>\n",
       "      <td>$1-$10,000</td>\n",
       "      <td>Annual gross income: $191,900</td>\n",
       "      <td>SOUTHERN CALIFORNIA</td>\n",
       "      <td>False</td>\n",
       "    </tr>\n",
       "    <tr>\n",
       "      <th>4</th>\n",
       "      <td>01May2014:10:46:54.000000</td>\n",
       "      <td>20100</td>\n",
       "      <td>780-799</td>\n",
       "      <td>$90,001-$100,000</td>\n",
       "      <td>Verified monthly debt payments: $1,700</td>\n",
       "      <td>SOUTHERN CALIFORNIA</td>\n",
       "      <td>True</td>\n",
       "    </tr>\n",
       "    <tr>\n",
       "      <th>...</th>\n",
       "      <td>...</td>\n",
       "      <td>...</td>\n",
       "      <td>...</td>\n",
       "      <td>...</td>\n",
       "      <td>...</td>\n",
       "      <td>...</td>\n",
       "      <td>...</td>\n",
       "    </tr>\n",
       "    <tr>\n",
       "      <th>7995</th>\n",
       "      <td>07May2015:16:04:54.000000</td>\n",
       "      <td>3500</td>\n",
       "      <td>700-719</td>\n",
       "      <td>NaN</td>\n",
       "      <td>Customer has no existing debt...Annual gross i...</td>\n",
       "      <td>SOUTHERN CALIFORNIA</td>\n",
       "      <td>False</td>\n",
       "    </tr>\n",
       "    <tr>\n",
       "      <th>7996</th>\n",
       "      <td>07May2015:16:38:22.000000</td>\n",
       "      <td>2500</td>\n",
       "      <td>700-719</td>\n",
       "      <td>$1-$10,000</td>\n",
       "      <td>Verified monthly debt payments: $10</td>\n",
       "      <td>SOUTHERN CALIFORNIA</td>\n",
       "      <td>True</td>\n",
       "    </tr>\n",
       "    <tr>\n",
       "      <th>7997</th>\n",
       "      <td>07May2015:17:04:07.000000</td>\n",
       "      <td>2500</td>\n",
       "      <td>780-799</td>\n",
       "      <td>$10,001-$20,000</td>\n",
       "      <td>Monthly gross income 2,870</td>\n",
       "      <td>SOUTHERN CALIFORNIA</td>\n",
       "      <td>False</td>\n",
       "    </tr>\n",
       "    <tr>\n",
       "      <th>7998</th>\n",
       "      <td>07May2015:17:37:18.000000</td>\n",
       "      <td>2500</td>\n",
       "      <td>800+</td>\n",
       "      <td>NaN</td>\n",
       "      <td>Customer has no existing debt</td>\n",
       "      <td>NEVADA</td>\n",
       "      <td>True</td>\n",
       "    </tr>\n",
       "    <tr>\n",
       "      <th>7999</th>\n",
       "      <td>07May2015:17:52:58.000000</td>\n",
       "      <td>2500</td>\n",
       "      <td>740-759</td>\n",
       "      <td>$40,001-$50,000</td>\n",
       "      <td>NaN</td>\n",
       "      <td>NORTHERN CALIFORNIA</td>\n",
       "      <td>True</td>\n",
       "    </tr>\n",
       "  </tbody>\n",
       "</table>\n",
       "<p>8000 rows × 7 columns</p>\n",
       "</div>"
      ],
      "text/plain": [
       "           RECORD_CREATION_DATE  LOAN_AMOUNT CREDIT_RANGE     EXISTING_DEBT  \\\n",
       "0     01May2014:09:24:27.000000         2500      760-779   $10,001-$20,000   \n",
       "1     01May2014:09:48:36.000000         2500      700-719        $1-$10,000   \n",
       "2     01May2014:10:10:36.000000         6300      740-759         $100,000+   \n",
       "3     01May2014:10:31:25.000000         4300      780-799        $1-$10,000   \n",
       "4     01May2014:10:46:54.000000        20100      780-799  $90,001-$100,000   \n",
       "...                         ...          ...          ...               ...   \n",
       "7995  07May2015:16:04:54.000000         3500      700-719               NaN   \n",
       "7996  07May2015:16:38:22.000000         2500      700-719        $1-$10,000   \n",
       "7997  07May2015:17:04:07.000000         2500      780-799   $10,001-$20,000   \n",
       "7998  07May2015:17:37:18.000000         2500         800+               NaN   \n",
       "7999  07May2015:17:52:58.000000         2500      740-759   $40,001-$50,000   \n",
       "\n",
       "                                            AGENT_NOTES      OFFICE_LOCATION  \\\n",
       "0                                                   NaN  NORTHERN CALIFORNIA   \n",
       "1                          Annual gross income: $25,400  SOUTHERN CALIFORNIA   \n",
       "2                                                   NaN              ARIZONA   \n",
       "3                         Annual gross income: $191,900  SOUTHERN CALIFORNIA   \n",
       "4                Verified monthly debt payments: $1,700  SOUTHERN CALIFORNIA   \n",
       "...                                                 ...                  ...   \n",
       "7995  Customer has no existing debt...Annual gross i...  SOUTHERN CALIFORNIA   \n",
       "7996                Verified monthly debt payments: $10  SOUTHERN CALIFORNIA   \n",
       "7997                         Monthly gross income 2,870  SOUTHERN CALIFORNIA   \n",
       "7998                      Customer has no existing debt               NEVADA   \n",
       "7999                                                NaN  NORTHERN CALIFORNIA   \n",
       "\n",
       "      DEFAULTED  \n",
       "0         False  \n",
       "1         False  \n",
       "2          True  \n",
       "3         False  \n",
       "4          True  \n",
       "...         ...  \n",
       "7995      False  \n",
       "7996       True  \n",
       "7997      False  \n",
       "7998       True  \n",
       "7999       True  \n",
       "\n",
       "[8000 rows x 7 columns]"
      ]
     },
     "execution_count": 7,
     "metadata": {},
     "output_type": "execute_result"
    }
   ],
   "source": [
    "df"
   ]
  },
  {
   "cell_type": "code",
   "execution_count": 14,
   "metadata": {},
   "outputs": [
    {
     "data": {
      "text/plain": [
       "2096"
      ]
     },
     "execution_count": 14,
     "metadata": {},
     "output_type": "execute_result"
    }
   ],
   "source": [
    "dict(df['OFFICE_LOCATION'].value_counts())['SOUTHERN CALIFORNIA']"
   ]
  },
  {
   "cell_type": "code",
   "execution_count": 16,
   "metadata": {},
   "outputs": [
    {
     "data": {
      "text/plain": [
       "1715"
      ]
     },
     "execution_count": 16,
     "metadata": {},
     "output_type": "execute_result"
    }
   ],
   "source": [
    "dict(df['OFFICE_LOCATION'].value_counts())['NORTHERN CALIFORNIA']"
   ]
  },
  {
   "cell_type": "code",
   "execution_count": 17,
   "metadata": {},
   "outputs": [
    {
     "data": {
      "text/plain": [
       "3811"
      ]
     },
     "execution_count": 17,
     "metadata": {},
     "output_type": "execute_result"
    }
   ],
   "source": [
    "2096 + 1715"
   ]
  },
  {
   "cell_type": "code",
   "execution_count": null,
   "metadata": {},
   "outputs": [],
   "source": []
  }
 ],
 "metadata": {
  "kernelspec": {
   "display_name": "Python 3",
   "language": "python",
   "name": "python3"
  },
  "language_info": {
   "codemirror_mode": {
    "name": "ipython",
    "version": 3
   },
   "file_extension": ".py",
   "mimetype": "text/x-python",
   "name": "python",
   "nbconvert_exporter": "python",
   "pygments_lexer": "ipython3",
   "version": "3.7.7"
  }
 },
 "nbformat": 4,
 "nbformat_minor": 2
}
